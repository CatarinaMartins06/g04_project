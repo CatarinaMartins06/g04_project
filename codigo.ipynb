{
 "cells": [
  {
   "cell_type": "code",
   "execution_count": 3,
   "id": "d5f97543-6cbe-49ea-a8aa-4e00bb2eee34",
   "metadata": {},
   "outputs": [],
   "source": [
    "import pandas as pd\n",
    "import sqlite3"
   ]
  },
  {
   "cell_type": "code",
   "execution_count": 1,
   "id": "abb16a93-62f9-4a7b-97b2-88ae5ed5fdfb",
   "metadata": {},
   "outputs": [],
   "source": [
    "csv_file = r'G04_Movie_Database.csv'\n",
    "db_file = \"data\\\\base.db\""
   ]
  },
  {
   "cell_type": "code",
   "execution_count": 4,
   "id": "e23d546b-8e5b-4ee9-b8a7-8ab67a6565fe",
   "metadata": {},
   "outputs": [],
   "source": [
    "df = pd.read_csv(csv_file)    \n",
    "conn = sqlite3.connect(db_file)"
   ]
  },
  {
   "cell_type": "code",
   "execution_count": 19,
   "id": "af67ded4-5f72-4eb9-ab75-4e2d123a3661",
   "metadata": {
    "scrolled": true
   },
   "outputs": [
    {
     "data": {
      "text/html": [
       "<div>\n",
       "<style scoped>\n",
       "    .dataframe tbody tr th:only-of-type {\n",
       "        vertical-align: middle;\n",
       "    }\n",
       "\n",
       "    .dataframe tbody tr th {\n",
       "        vertical-align: top;\n",
       "    }\n",
       "\n",
       "    .dataframe thead th {\n",
       "        text-align: right;\n",
       "    }\n",
       "</style>\n",
       "<table border=\"1\" class=\"dataframe\">\n",
       "  <thead>\n",
       "    <tr style=\"text-align: right;\">\n",
       "      <th></th>\n",
       "      <th>id</th>\n",
       "      <th>name</th>\n",
       "      <th>birthdate</th>\n",
       "      <th>nationality</th>\n",
       "    </tr>\n",
       "  </thead>\n",
       "  <tbody>\n",
       "    <tr>\n",
       "      <th>0</th>\n",
       "      <td>356</td>\n",
       "      <td>Steven Johnson</td>\n",
       "      <td>1996-07-02</td>\n",
       "      <td>Canada</td>\n",
       "    </tr>\n",
       "    <tr>\n",
       "      <th>1</th>\n",
       "      <td>94</td>\n",
       "      <td>Eric Anderson</td>\n",
       "      <td>1982-05-05</td>\n",
       "      <td>USA</td>\n",
       "    </tr>\n",
       "    <tr>\n",
       "      <th>2</th>\n",
       "      <td>52</td>\n",
       "      <td>Christine Brooks</td>\n",
       "      <td>1987-12-14</td>\n",
       "      <td>UK</td>\n",
       "    </tr>\n",
       "    <tr>\n",
       "      <th>3</th>\n",
       "      <td>229</td>\n",
       "      <td>Lori Ayala</td>\n",
       "      <td>1947-11-03</td>\n",
       "      <td>USA</td>\n",
       "    </tr>\n",
       "  </tbody>\n",
       "</table>\n",
       "</div>"
      ],
      "text/plain": [
       "    id              name   birthdate nationality\n",
       "0  356    Steven Johnson  1996-07-02      Canada\n",
       "1   94     Eric Anderson  1982-05-05         USA\n",
       "2   52  Christine Brooks  1987-12-14          UK\n",
       "3  229        Lori Ayala  1947-11-03         USA"
      ]
     },
     "execution_count": 19,
     "metadata": {},
     "output_type": "execute_result"
    }
   ],
   "source": [
    "df_actors = df[['actors_id', 'name', 'birthdate', 'nationality']].drop_duplicates()\n",
    "df_actors = df_actors.rename(columns={'actors_id':'id'})\n",
    "df_actors.to_sql('Actors', conn, if_exists='append', index=False)"
   ]
  },
  {
   "cell_type": "code",
   "execution_count": 23,
   "id": "e0592bc8-7906-4f40-8bd9-90dd5f763be8",
   "metadata": {
    "scrolled": true
   },
   "outputs": [
    {
     "data": {
      "text/html": [
       "<div>\n",
       "<style scoped>\n",
       "    .dataframe tbody tr th:only-of-type {\n",
       "        vertical-align: middle;\n",
       "    }\n",
       "\n",
       "    .dataframe tbody tr th {\n",
       "        vertical-align: top;\n",
       "    }\n",
       "\n",
       "    .dataframe thead th {\n",
       "        text-align: right;\n",
       "    }\n",
       "</style>\n",
       "<table border=\"1\" class=\"dataframe\">\n",
       "  <thead>\n",
       "    <tr style=\"text-align: right;\">\n",
       "      <th></th>\n",
       "      <th>id</th>\n",
       "      <th>title</th>\n",
       "      <th>genre</th>\n",
       "      <th>release_year</th>\n",
       "      <th>studios_id</th>\n",
       "    </tr>\n",
       "  </thead>\n",
       "  <tbody>\n",
       "    <tr>\n",
       "      <th>0</th>\n",
       "      <td>186</td>\n",
       "      <td>Poor almost.</td>\n",
       "      <td>Drama</td>\n",
       "      <td>1992</td>\n",
       "      <td>7</td>\n",
       "    </tr>\n",
       "    <tr>\n",
       "      <th>1</th>\n",
       "      <td>185</td>\n",
       "      <td>Good wide office.</td>\n",
       "      <td>Drama</td>\n",
       "      <td>2013</td>\n",
       "      <td>6</td>\n",
       "    </tr>\n",
       "    <tr>\n",
       "      <th>2</th>\n",
       "      <td>182</td>\n",
       "      <td>Real responsibility kind.</td>\n",
       "      <td>Comedy</td>\n",
       "      <td>1996</td>\n",
       "      <td>9</td>\n",
       "    </tr>\n",
       "    <tr>\n",
       "      <th>3</th>\n",
       "      <td>44</td>\n",
       "      <td>Former player similar.</td>\n",
       "      <td>Action</td>\n",
       "      <td>2020</td>\n",
       "      <td>7</td>\n",
       "    </tr>\n",
       "  </tbody>\n",
       "</table>\n",
       "</div>"
      ],
      "text/plain": [
       "    id                      title   genre  release_year  studios_id\n",
       "0  186               Poor almost.   Drama          1992           7\n",
       "1  185          Good wide office.   Drama          2013           6\n",
       "2  182  Real responsibility kind.  Comedy          1996           9\n",
       "3   44     Former player similar.  Action          2020           7"
      ]
     },
     "execution_count": 23,
     "metadata": {},
     "output_type": "execute_result"
    }
   ],
   "source": [
    "df_movies = df[['movies_id','title', 'genre', 'release_year', 'studios_id']].drop_duplicates()\n",
    "df_newMovies = df_movies.drop_duplicates()\n",
    "df_newMovies.sort_values(['movies_id'])\n",
    "df_newMovies = df_newMovies.rename(columns={'movies_id':'id'})\n",
    "df_newMovies.to_sql('Movies', conn, if_exists='append', index=False)"
   ]
  },
  {
   "cell_type": "code",
   "execution_count": 33,
   "id": "7cf11fa7-9b0f-4fe1-90e5-aaa7e02dac1b",
   "metadata": {},
   "outputs": [
    {
     "data": {
      "text/plain": [
       "15"
      ]
     },
     "execution_count": 33,
     "metadata": {},
     "output_type": "execute_result"
    }
   ],
   "source": [
    "df_studios = df[['studios_id', 'studio_name', 'location']].drop_duplicates()\n",
    "df_studios = df_studios.rename(columns={'studios_id':'id'})\n",
    "df_studios.to_sql('Studios', conn, if_exists='append', index=False)"
   ]
  },
  {
   "cell_type": "code",
   "execution_count": 29,
   "id": "f4c2eb0d-6973-40f3-a255-37533b537221",
   "metadata": {},
   "outputs": [
    {
     "data": {
      "text/plain": [
       "1200"
      ]
     },
     "execution_count": 29,
     "metadata": {},
     "output_type": "execute_result"
    }
   ],
   "source": [
    "df_cast = df[['movies_id', 'actors_id', 'role']].drop_duplicates()\n",
    "df_cast.to_sql('Cast', conn, if_exists='append', index=False)"
   ]
  }
 ],
 "metadata": {
  "kernelspec": {
   "display_name": "base",
   "language": "python",
   "name": "python3"
  },
  "language_info": {
   "codemirror_mode": {
    "name": "ipython",
    "version": 3
   },
   "file_extension": ".py",
   "mimetype": "text/x-python",
   "name": "python",
   "nbconvert_exporter": "python",
   "pygments_lexer": "ipython3",
   "version": "3.12.4"
  }
 },
 "nbformat": 4,
 "nbformat_minor": 5
}
